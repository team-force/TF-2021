{
 "metadata": {
  "language_info": {
   "codemirror_mode": {
    "name": "ipython",
    "version": 3
   },
   "file_extension": ".py",
   "mimetype": "text/x-python",
   "name": "python",
   "nbconvert_exporter": "python",
   "pygments_lexer": "ipython3",
   "version": "3.9.1-final"
  },
  "orig_nbformat": 2,
  "kernelspec": {
   "name": "python391jvsc74a57bd07812ea015bdcee6f23a998adcdd2ef97c151c0c241b7b7070987d9313e41299d",
   "display_name": "Python 3.9.1 64-bit"
  }
 },
 "nbformat": 4,
 "nbformat_minor": 2,
 "cells": [
  {
   "source": [
    "# Reto AutoNav \n",
    "Navegación autónoma en una ruta específica."
   ],
   "cell_type": "markdown",
   "metadata": {}
  },
  {
   "source": [
    "## Método Propuesto\n",
    "Llevar al robot de un punto a otro dentro de la ruta moviéndose en un arco que conecte ambos puntos. "
   ],
   "cell_type": "markdown",
   "metadata": {}
  },
  {
   "source": [
    "### ¿Qué tenemos disponible?\n",
    "- El Diagrama que establece la ruta\n",
    "- Los puntos intermedios en la ruta\n",
    "- El diagrama en Geogebra para calcular los arcos (su radio) entre puntos\n",
    "- Las funciones para mover el vehículo en arcos dentro de CoppeliaSim"
   ],
   "cell_type": "markdown",
   "metadata": {}
  },
  {
   "source": [
    "### ¿Qué nos falta?\n",
    "\n",
    "1. Hacer que el robot se mueva en uno de estos arcos\n",
    "2. Probar que el robot se mueve en el arco escogido a partir del punto donde debería iniciar\n",
    "3. Hacer que el robot complete dos arcos consecutivos\n",
    "4. Hacer que el robot complete todos los arcos de forma consecutiva. \n",
    "    - Usando un método ideal\n",
    "    - Usando un método realista"
   ],
   "cell_type": "markdown",
   "metadata": {}
  },
  {
   "source": [
    "## Movimientos en Arcos\n",
    "\n",
    "El tipo de tracción diferencial (de tanque) que tiene el robot hace que su movimiento sea resultado de combinar la velocidad con la que avanza cada juego de ruedas. Esto indica que el robot puede hacer tres tipos de Movimientos:\n",
    "  - En línea recta (adelante o atrás)\n",
    "  - Sobre su propio eje\n",
    "  - En arcos\n",
    "\n",
    "El movimiento en arcos se refiere a moverse con velocidades fijas tanto para avance (_v_) y de giro (_w_) \n",
    "\n",
    "Idealmente, si el robot sigue este movimiento, estaría moviéndose en círculos alrededor de un punto que se encuentre a una distancia R (radio) a la izquierda o derecha del robot en todo momento. Como si avanzara pero estuviera amarrado a un poste con una cuerda: obligatoriamente hará un círculo. \n",
    "\n",
    "La idea de que sean \"arcos\" es porque para ir de un punto a otro, el robot solo necesita recorrer un pedazo del círculo (un arco).\n",
    "\n",
    "\n",
    "El arco se puede hacer moviéndose hacia la derecha o izquierda del robot, dependiendo dónde se encuentre el centro del arco. En este caso, si el centro está a la izquierda del robot, el movimiento (y el arco) sería hacia la izquierda. \n",
    "\n",
    "Para hacer el movimiento del arco se combina una velocidad de avance y de giro (v, w) de forma que la del giro depende del tamaño (radio) del arco que queremos hacer. La fórmula para crear la velocidad de giro es\n",
    "\n",
    "w = v/radio"
   ],
   "cell_type": "markdown",
   "metadata": {}
  },
  {
   "source": [
    "## Pregunta\n",
    "\n",
    "¿Qué podemos hacer para llegar del punto D al punto H que no sea seguir un arco perfecto?\n",
    "\n",
    "- Definitivamente no lineas rectas porque es muy facil chocar con los conos\n",
    "\n",
    "Pudiera usar sensores de proximidad\n",
    "Pudiera usar la cámara\n",
    "Se pueden agregar elementos fuera de campo\n",
    "\n",
    "\n",
    "- La cámara para asegurarse de no chocar \n",
    "    Mantenerlo a una distancia de cualquier cosa que vea\n",
    "\n",
    "\n",
    "1. Usar la cámara viendo objetos externos para saber cuándo llegamos a uno de los puntos\n",
    "\n",
    "2. Se puede hacer algo similar con los sensores de prox:\n",
    "Dos sensores de prox a los lados para saber cuando es tiempo de actuar\n",
    "\n",
    "3. Usar el cono del centro para girar\n",
    "    Necesitaría mantener la cámara enfocada en ese punto\n",
    "\n",
    "4. Usar cualquier cono para orientar al robot / o guiar el arco.\n",
    "\n",
    "\n",
    "### Traer propuestas de cada uno usando sens. de proximidad o visión.\n"
   ],
   "cell_type": "markdown",
   "metadata": {}
  },
  {
   "source": [
    "¿Qué puede hacer el vehículo?\n",
    "- Se puede mover en arcos\n",
    "- Tiene una cámara\n",
    "\n",
    "- Pudiera usar sensor de proximidad\n",
    "\n",
    "¿Qué no puede hacer?\n",
    "    - Usar GPS"
   ],
   "cell_type": "markdown",
   "metadata": {}
  }
 ]
}